{
 "cells": [
  {
   "cell_type": "code",
   "execution_count": null,
   "metadata": {
    "execution": {
     "iopub.execute_input": "2024-10-05T21:22:09.603823Z",
     "iopub.status.busy": "2024-10-05T21:22:09.603037Z",
     "iopub.status.idle": "2024-10-05T21:22:10.673178Z",
     "shell.execute_reply": "2024-10-05T21:22:10.672275Z",
     "shell.execute_reply.started": "2024-10-05T21:22:09.603784Z"
    },
    "trusted": true
   },
   "outputs": [],
   "source": [
    "import matplotlib.pyplot as plt\n",
    "\n",
    "\n",
    "# Create a single figure to plot both R² score sets\n",
    "plt.figure(figsize=(8, 6))\n",
    "\n",
    "# Plot the first set of R² scores as dots\n",
    "plt.scatter(range(len(r2_scores)), r2_scores, color='skyblue', edgecolor='black', label='R² Scores Set 1 (Proposed)', alpha=0.7)\n",
    "plt.plot(range(len(r2_scores)), [avg_r2_score] * len(r2_scores), color='blue', linestyle='--', label=f'Avg R² Set 1 = {avg_r2_score:.4f}')\n",
    "\n",
    "# Plot the second set of R² scores as dots\n",
    "plt.scatter(range(len(r2_scores2)), r2_scores2, color='orange', edgecolor='black', label='R² Scores Set 2 (VGG19)', alpha=0.7)\n",
    "plt.plot(range(len(r2_scores2)), [avg_r2_score2] * len(r2_scores2), color='red', linestyle='--', label=f'Avg R² Set 2 = {avg_r2_score2:.4f}')\n",
    "\n",
    "# Add labels and title\n",
    "plt.xlabel('Image Index', fontsize=14)\n",
    "plt.ylabel('R² Score', fontsize=14)\n",
    "plt.legend()\n",
    "plt.grid(True)\n",
    "\n",
    "# Set y-axis limits between 0 and 1 for better visualization\n",
    "plt.ylim(0, 1)\n",
    "\n",
    "# Save the combined plot\n",
    "plt.savefig('combined_r2_scores_dot_plot_final', dpi=300, bbox_inches='tight')\n",
    "\n",
    "# Show the plot\n",
    "plt.show()\n"
   ]
  },
  {
   "cell_type": "code",
   "execution_count": null,
   "metadata": {
    "execution": {
     "iopub.execute_input": "2024-10-05T21:07:16.863732Z",
     "iopub.status.busy": "2024-10-05T21:07:16.863327Z",
     "iopub.status.idle": "2024-10-05T21:07:17.858407Z",
     "shell.execute_reply": "2024-10-05T21:07:17.857520Z",
     "shell.execute_reply.started": "2024-10-05T21:07:16.863694Z"
    },
    "trusted": true
   },
   "outputs": [],
   "source": [
    "import matplotlib.pyplot as plt\n",
    "import numpy as np\n",
    "\n",
    "# Example data for demonstration (replace with actual data)\n",
    "# r2_scores = [0.75, 0.85, 0.65, 0.9, 0.8, -0.3]  # Replace with actual r2_scores\n",
    "# r2_scores2 = [0.7, 0.8, 0.6, 0.88, 0.77, -0.2]  # Replace with actual r2_scores2\n",
    "\n",
    "# Filter out negative R² scores\n",
    "valid_r2_scores = [score for score in r2_scores if 0 <= score <= 1]\n",
    "valid_r2_scores2 = [score for score in r2_scores2 if 0 <= score <= 1]\n",
    "\n",
    "# Compute the average of valid R² scores\n",
    "avg_r2_score = np.mean(valid_r2_scores)\n",
    "avg_r2_score2 = np.mean(valid_r2_scores2)\n",
    "\n",
    "# Plot the histograms for both sets of valid R² scores in one figure\n",
    "plt.figure(figsize=(8, 6))\n",
    "\n",
    "# First histogram (set 1)\n",
    "plt.hist(valid_r2_scores, bins=20, color='skyblue', edgecolor='black', alpha=0.7, label='R² Scores Set 1 (Proposed)')\n",
    "plt.axvline(avg_r2_score, color='blue', linestyle='--', label=f'Avg R² Set 1 = {avg_r2_score:.4f}')\n",
    "\n",
    "# Second histogram (set 2)\n",
    "plt.hist(valid_r2_scores2, bins=20, color='orange', edgecolor='black', alpha=0.7, label='R² Scores Set 2 (VGG19)')\n",
    "plt.axvline(avg_r2_score2, color='red', linestyle='--', label=f'Avg R² Set 2 = {avg_r2_score2:.4f}')\n",
    "\n",
    "# Add labels and title\n",
    "plt.xlabel('R² Score', fontsize=14)\n",
    "plt.ylabel('# of Test Images', fontsize=14)\n",
    "plt.legend()\n",
    "plt.grid(True)\n",
    "\n",
    "# Set x-axis limits between 0 and 1\n",
    "plt.xlim(0, 1)\n",
    "\n",
    "# Save the combined plot\n",
    "plt.savefig('combined_r2_scores_histogram_f01', dpi=300, bbox_inches='tight')\n",
    "\n",
    "# Show the plot\n",
    "plt.show()\n",
    "\n",
    "# Print the average R² values\n",
    "print(f'Average Valid R² Value Set 1 (proposed): {avg_r2_score:.4f}')\n",
    "print(f'Average Valid R² Value Set 2 (VGG19): {avg_r2_score2:.4f}')\n"
   ]
  }
 ],
 "metadata": {
  "accelerator": "GPU",
  "colab": {
   "collapsed_sections": [],
   "machine_shape": "hm",
   "name": "depth_estimation.ipynb",
   "provenance": []
  },
  "kaggle": {
   "accelerator": "nvidiaTeslaT4",
   "dataSources": [
    {
     "datasetId": 5760779,
     "sourceId": 9472655,
     "sourceType": "datasetVersion"
    },
    {
     "isSourceIdPinned": true,
     "modelId": 127005,
     "modelInstanceId": 102782,
     "sourceId": 122145,
     "sourceType": "modelInstanceVersion"
    }
   ],
   "dockerImageVersionId": 30776,
   "isGpuEnabled": true,
   "isInternetEnabled": true,
   "language": "python",
   "sourceType": "notebook"
  },
  "kernelspec": {
   "display_name": "Python 3",
   "language": "python",
   "name": "python3"
  },
  "language_info": {
   "codemirror_mode": {
    "name": "ipython",
    "version": 3
   },
   "file_extension": ".py",
   "mimetype": "text/x-python",
   "name": "python",
   "nbconvert_exporter": "python",
   "pygments_lexer": "ipython3",
   "version": "3.10.14"
  },
  "papermill": {
   "default_parameters": {},
   "duration": 20435.229443,
   "end_time": "2024-02-15T19:01:26.203860",
   "environment_variables": {},
   "exception": null,
   "input_path": "__notebook__.ipynb",
   "output_path": "__notebook__.ipynb",
   "parameters": {},
   "start_time": "2024-02-15T13:20:50.974417",
   "version": "2.5.0"
  }
 },
 "nbformat": 4,
 "nbformat_minor": 4
}
